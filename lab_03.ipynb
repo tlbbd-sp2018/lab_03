{
 "cells": [
  {
   "cell_type": "markdown",
   "metadata": {},
   "source": [
    "## Structural Causal Models and Parameters\n",
    "\n",
    "## Lab 03 for PH 290: Targeted Learning in Biomedical Big Data\n",
    "\n",
    "### Author: [Nima Hejazi](https://nimahejazi.org)\n",
    "\n",
    "### Date: 31 January 2018\n",
    "\n",
    "### Attribution: adapted from source materials by [David Benkeser](https://www.benkeserstatistics.com/)"
   ]
  },
  {
   "cell_type": "code",
   "execution_count": 1,
   "metadata": {},
   "outputs": [
    {
     "name": "stderr",
     "output_type": "stream",
     "text": [
      "── Attaching packages ─────────────────────────────────────── tidyverse 1.2.1 ──\n",
      "✔ ggplot2 2.2.1.9000     ✔ purrr   0.2.4     \n",
      "✔ tibble  1.4.2          ✔ dplyr   0.7.4     \n",
      "✔ tidyr   0.7.2.9000     ✔ stringr 1.2.0.9000\n",
      "✔ readr   1.1.1          ✔ forcats 0.2.0     \n",
      "── Conflicts ────────────────────────────────────────── tidyverse_conflicts() ──\n",
      "✖ dplyr::filter() masks stats::filter()\n",
      "✖ dplyr::lag()    masks stats::lag()\n"
     ]
    }
   ],
   "source": [
    "options(repr.plot.width = 4, repr.plot.height = 3)  ## resizing plots\n",
    "options(scipen = 999)  ## has scientific notation ever annoyed you?\n",
    "library(tidyverse)\n",
    "library(ggsci)\n",
    "set.seed(76548208)"
   ]
  },
  {
   "cell_type": "markdown",
   "metadata": {},
   "source": [
    "## I. Introduction\n",
    "\n",
    "In this lab, we review how to simulate from structural causal models (SCMs) and how to approximate causal parameters based on SCMs. We also illustrate how to compare causal parameters to observed data parameters to verify identifiability results discussed in class."
   ]
  },
  {
   "cell_type": "markdown",
   "metadata": {},
   "source": [
    "Consider the data structure $X = (W_1,W_2,A,Y)$ and $U = (U_{W,1}, U_{W,2},U_{A},U_Y)$. The first exercise will show how to explicitly simulate data from a structural model. Our causal model stipulates that $(U,X) \\sim P_{U,X}$ for some $P_{U,X} \\in \\mathcal{M}^X$, a model that assumes that $U_A \\perp U_Y$, but otherwise makes no assumptions about the distribution of $(U,X)$. One (of many) such $P_{U,X}$ that is in this model is given by the error distributions \\begin{align*}\n",
    "U_{W,1} &\\sim \\mbox{Bernoulli}(1/2) \\\\\n",
    "U_{W,2} &\\sim \\mbox{Bernoulli}(1/2) \\\\\n",
    "U_A &\\sim \\mbox{Normal}(0,1) \\\\\n",
    "U_Y &\\sim \\mbox{Normal}(0,1) \\ ,\n",
    "\\end{align*}\n",
    "and structural equations \\begin{align*}\n",
    "f_{W,1}(U_{W,1}) &= U_{W,1} \\\\\n",
    "f_{W,2}(U_{W,2}) &= U_{W,2} \\\\\n",
    "f_A(W_1, W_2, U_A) &= I(\\mbox{expit}(W_1 - W_2 + U_A) > 0.5)\\\\\n",
    "f_Y(W_1, W_2, A, U_Y) &= -W_1 + W_2 + A - U_Y \\ . \n",
    "\\end{align*}\n",
    "\n",
    "Let's think about how we can explicity code this distribution in R. Let's first write a function to represent each structural equation."
   ]
  },
  {
   "cell_type": "code",
   "execution_count": 2,
   "metadata": {
    "collapsed": true
   },
   "outputs": [],
   "source": [
    "# structural equation for W_1\n",
    "# takes as input a vector U_W1 and returns a vector evaluating\n",
    "# f_{W,1}(U_W1)\n",
    "f_W1 <- function(U_W1){\n",
    "    return(U_W1)\n",
    "}\n",
    "\n",
    "# structural equation for W_2\n",
    "# takes as input a vector U_W2 and returns a vector evaluating\n",
    "# f_{W,2}(U_W2)\n",
    "f_W2 <- function(U_W2){\n",
    "    return(U_W2)\n",
    "}\n",
    "\n",
    "# structural equation for A\n",
    "f_A <- function(W_1, W_2, U_A){\n",
    "    return(as.numeric(plogis(W_1 - W_2 + U_A) > 0.5))\n",
    "}\n",
    "\n",
    "# structural equation for Y\n",
    "f_Y <- function(W_1, W_2, A, U_Y){\n",
    "    return(-W_1 + W_2 + A - U_Y)\n",
    "}"
   ]
  },
  {
   "cell_type": "markdown",
   "metadata": {},
   "source": [
    "We can now define a function to generate an observation from this SCM."
   ]
  },
  {
   "cell_type": "code",
   "execution_count": 3,
   "metadata": {},
   "outputs": [
    {
     "data": {
      "text/html": [
       "<table>\n",
       "<thead><tr><th scope=col>W_1</th><th scope=col>W_2</th><th scope=col>A</th><th scope=col>Y</th></tr></thead>\n",
       "<tbody>\n",
       "\t<tr><td>0         </td><td>0         </td><td>1         </td><td> 1.3935595</td></tr>\n",
       "\t<tr><td>1         </td><td>0         </td><td>0         </td><td>-0.1991701</td></tr>\n",
       "\t<tr><td>1         </td><td>1         </td><td>0         </td><td>-0.7243135</td></tr>\n",
       "\t<tr><td>0         </td><td>0         </td><td>0         </td><td>-0.6034721</td></tr>\n",
       "\t<tr><td>0         </td><td>0         </td><td>1         </td><td> 2.7803916</td></tr>\n",
       "\t<tr><td>1         </td><td>0         </td><td>1         </td><td> 0.7458899</td></tr>\n",
       "</tbody>\n",
       "</table>\n"
      ],
      "text/latex": [
       "\\begin{tabular}{r|llll}\n",
       " W\\_1 & W\\_2 & A & Y\\\\\n",
       "\\hline\n",
       "\t 0          & 0          & 1          &  1.3935595\\\\\n",
       "\t 1          & 0          & 0          & -0.1991701\\\\\n",
       "\t 1          & 1          & 0          & -0.7243135\\\\\n",
       "\t 0          & 0          & 0          & -0.6034721\\\\\n",
       "\t 0          & 0          & 1          &  2.7803916\\\\\n",
       "\t 1          & 0          & 1          &  0.7458899\\\\\n",
       "\\end{tabular}\n"
      ],
      "text/markdown": [
       "\n",
       "W_1 | W_2 | A | Y | \n",
       "|---|---|---|---|---|---|\n",
       "| 0          | 0          | 1          |  1.3935595 | \n",
       "| 1          | 0          | 0          | -0.1991701 | \n",
       "| 1          | 1          | 0          | -0.7243135 | \n",
       "| 0          | 0          | 0          | -0.6034721 | \n",
       "| 0          | 0          | 1          |  2.7803916 | \n",
       "| 1          | 0          | 1          |  0.7458899 | \n",
       "\n",
       "\n"
      ],
      "text/plain": [
       "  W_1 W_2 A Y         \n",
       "1 0   0   1  1.3935595\n",
       "2 1   0   0 -0.1991701\n",
       "3 1   1   0 -0.7243135\n",
       "4 0   0   0 -0.6034721\n",
       "5 0   0   1  2.7803916\n",
       "6 1   0   1  0.7458899"
      ]
     },
     "metadata": {},
     "output_type": "display_data"
    }
   ],
   "source": [
    "sim_obs_scm <- function(n) {\n",
    "    ##############################################\n",
    "    # function to draw n observations from an scm\n",
    "    # n = the number of observations to draw\n",
    "    # returns a data.frame with named columns\n",
    "    ##############################################\n",
    "\n",
    "    # first we draw the errors\n",
    "    ## draw U_{W,1}\n",
    "    U_W1 <- rbinom(n,1,0.5)\n",
    "    ## draw U_{W,2}\n",
    "    U_W2 <- rbinom(n,1,0.5)\n",
    "    ## draw U_A\n",
    "    U_A <- rnorm(n,0,1)\n",
    "    ## draw U_Y\n",
    "    U_Y <- rnorm(n,0,1)\n",
    "\n",
    "    # now we can evaluate the observations sequentially\n",
    "    ## evaluate W_1\n",
    "    W_1 <- f_W1(U_W1)\n",
    "    ## evaluate W_2\n",
    "    W_2 <- f_W2(U_W2)\n",
    "    ## evaluate A\n",
    "    A <- f_A(W_1 = W_1, W_2 = W_2, U_A = U_A)\n",
    "    ## evaluate Y\n",
    "    Y <- f_Y(W_1 = W_1, W_2 = W_2, A = A, U_Y = U_Y)\n",
    "\n",
    "    # return a tibble\n",
    "    out <- as_tibble(list(W_1 = W_1, W_2 = W_2, A = A, Y = Y))\n",
    "    return(out)\n",
    "}\n",
    "\n",
    "# try it out \n",
    "sim_test <- sim_obs_scm(n = 100)\n",
    "head(sim_test)"
   ]
  },
  {
   "cell_type": "markdown",
   "metadata": {},
   "source": [
    "The above function generates a set of $n$ observations that might be observed in pratice were this $P_{X,U}$ to be the true data generating distribution. Because we are simulating the data, we can also perform manipulations on this SCM, as we would like to (but may be unable to) do in practice. \n",
    "\n",
    "Let's now define a function that allows us to set the value of $A$ to either 0 or 1 and returns a data set of counterfactual observations, i.e., observations we would have seen if we were able to manipulate the SCM. "
   ]
  },
  {
   "cell_type": "code",
   "execution_count": 4,
   "metadata": {},
   "outputs": [
    {
     "data": {
      "text/html": [
       "<table>\n",
       "<thead><tr><th scope=col>W_1</th><th scope=col>W_2</th><th scope=col>A</th><th scope=col>Y_1</th></tr></thead>\n",
       "<tbody>\n",
       "\t<tr><td>0         </td><td>1         </td><td>1         </td><td> 1.3922722</td></tr>\n",
       "\t<tr><td>1         </td><td>1         </td><td>1         </td><td> 1.8913405</td></tr>\n",
       "\t<tr><td>1         </td><td>1         </td><td>1         </td><td>-0.3918730</td></tr>\n",
       "\t<tr><td>1         </td><td>1         </td><td>1         </td><td> 1.7296904</td></tr>\n",
       "\t<tr><td>1         </td><td>1         </td><td>1         </td><td> 2.0408356</td></tr>\n",
       "\t<tr><td>1         </td><td>1         </td><td>1         </td><td>-0.4072731</td></tr>\n",
       "</tbody>\n",
       "</table>\n"
      ],
      "text/latex": [
       "\\begin{tabular}{r|llll}\n",
       " W\\_1 & W\\_2 & A & Y\\_1\\\\\n",
       "\\hline\n",
       "\t 0          & 1          & 1          &  1.3922722\\\\\n",
       "\t 1          & 1          & 1          &  1.8913405\\\\\n",
       "\t 1          & 1          & 1          & -0.3918730\\\\\n",
       "\t 1          & 1          & 1          &  1.7296904\\\\\n",
       "\t 1          & 1          & 1          &  2.0408356\\\\\n",
       "\t 1          & 1          & 1          & -0.4072731\\\\\n",
       "\\end{tabular}\n"
      ],
      "text/markdown": [
       "\n",
       "W_1 | W_2 | A | Y_1 | \n",
       "|---|---|---|---|---|---|\n",
       "| 0          | 1          | 1          |  1.3922722 | \n",
       "| 1          | 1          | 1          |  1.8913405 | \n",
       "| 1          | 1          | 1          | -0.3918730 | \n",
       "| 1          | 1          | 1          |  1.7296904 | \n",
       "| 1          | 1          | 1          |  2.0408356 | \n",
       "| 1          | 1          | 1          | -0.4072731 | \n",
       "\n",
       "\n"
      ],
      "text/plain": [
       "  W_1 W_2 A Y_1       \n",
       "1 0   1   1  1.3922722\n",
       "2 1   1   1  1.8913405\n",
       "3 1   1   1 -0.3918730\n",
       "4 1   1   1  1.7296904\n",
       "5 1   1   1  2.0408356\n",
       "6 1   1   1 -0.4072731"
      ]
     },
     "metadata": {},
     "output_type": "display_data"
    },
    {
     "data": {
      "text/html": [
       "<table>\n",
       "<thead><tr><th scope=col>W_1</th><th scope=col>W_2</th><th scope=col>A</th><th scope=col>Y_0</th></tr></thead>\n",
       "<tbody>\n",
       "\t<tr><td>1         </td><td>0         </td><td>0         </td><td>-0.3711431</td></tr>\n",
       "\t<tr><td>1         </td><td>1         </td><td>0         </td><td>-0.8501863</td></tr>\n",
       "\t<tr><td>0         </td><td>0         </td><td>0         </td><td> 0.6210759</td></tr>\n",
       "\t<tr><td>1         </td><td>1         </td><td>0         </td><td> 1.6312533</td></tr>\n",
       "\t<tr><td>0         </td><td>0         </td><td>0         </td><td>-1.5470715</td></tr>\n",
       "\t<tr><td>1         </td><td>1         </td><td>0         </td><td>-1.5102034</td></tr>\n",
       "</tbody>\n",
       "</table>\n"
      ],
      "text/latex": [
       "\\begin{tabular}{r|llll}\n",
       " W\\_1 & W\\_2 & A & Y\\_0\\\\\n",
       "\\hline\n",
       "\t 1          & 0          & 0          & -0.3711431\\\\\n",
       "\t 1          & 1          & 0          & -0.8501863\\\\\n",
       "\t 0          & 0          & 0          &  0.6210759\\\\\n",
       "\t 1          & 1          & 0          &  1.6312533\\\\\n",
       "\t 0          & 0          & 0          & -1.5470715\\\\\n",
       "\t 1          & 1          & 0          & -1.5102034\\\\\n",
       "\\end{tabular}\n"
      ],
      "text/markdown": [
       "\n",
       "W_1 | W_2 | A | Y_0 | \n",
       "|---|---|---|---|---|---|\n",
       "| 1          | 0          | 0          | -0.3711431 | \n",
       "| 1          | 1          | 0          | -0.8501863 | \n",
       "| 0          | 0          | 0          |  0.6210759 | \n",
       "| 1          | 1          | 0          |  1.6312533 | \n",
       "| 0          | 0          | 0          | -1.5470715 | \n",
       "| 1          | 1          | 0          | -1.5102034 | \n",
       "\n",
       "\n"
      ],
      "text/plain": [
       "  W_1 W_2 A Y_0       \n",
       "1 1   0   0 -0.3711431\n",
       "2 1   1   0 -0.8501863\n",
       "3 0   0   0  0.6210759\n",
       "4 1   1   0  1.6312533\n",
       "5 0   0   0 -1.5470715\n",
       "6 1   1   0 -1.5102034"
      ]
     },
     "metadata": {},
     "output_type": "display_data"
    }
   ],
   "source": [
    "sim_int_scm <- function(n, set_A = 1) {\n",
    "    #########################################################\n",
    "    # function that draws n observations from an SCM that is \n",
    "    #   intervened on to set A = set_A\n",
    "    # n = number of observations\n",
    "    # set_A = the value to set A equal to (0 or 1)\n",
    "    # returns a tibble of coutnerfactual observations\n",
    "    #########################################################\n",
    "\n",
    "    # first we draw the errors\n",
    "    ## draw U_{W,1}\n",
    "    U_W1 <- rbinom(n,1,0.5)\n",
    "    ## draw U_{W,2}\n",
    "    U_W2 <- rbinom(n,1,0.5)\n",
    "    ## draw U_A\n",
    "    U_A <- rnorm(n,0,1)\n",
    "    ## draw U_Y\n",
    "    U_Y <- rnorm(n,0,1)\n",
    "\n",
    "    # now we can evaluate the observations sequentially\n",
    "    ## evaluate W_1\n",
    "    W_1 <- f_W1(U_W1)\n",
    "    ## evaluate W_2\n",
    "    W_2 <- f_W2(U_W2)\n",
    "    # we are now setting A = 1 for everyone\n",
    "    A <- rep(set_A, n)\n",
    "    ## evaluate Y with the set values of A\n",
    "    Y <- f_Y(W_1 = W_1, W_2 = W_2, A = A, U_Y = U_Y)\n",
    "\n",
    "    # return a tibble object\n",
    "    out <- as_tibble(list(W_1 = W_1, W_2 = W_2, A = A, Y = Y) )\n",
    "    ## lets rename the Y column to reflect the intervention\n",
    "    colnames(out)[4] <- paste0(\"Y_\",set_A)\n",
    "    return(out)\n",
    "}\n",
    "\n",
    "# try it out\n",
    "sim_test_a_is_1 <- sim_int_scm(n = 100, set_A = 1)\n",
    "head(sim_test_a_is_1)\n",
    "\n",
    "# and with setA = 0\n",
    "sim_test_a_is_0 <- sim_int_scm(n = 100, set_A = 0)\n",
    "head(sim_test_a_is_0)"
   ]
  },
  {
   "cell_type": "markdown",
   "metadata": {},
   "source": [
    "Let's think about the distribution of the counterfactual random variables $Y_a, a = 0,1$ implied by an intervention on the SCM setting $A=a$. We can use a large sample to approximate this distribution and plot an approximation with a histogram."
   ]
  },
  {
   "cell_type": "code",
   "execution_count": 5,
   "metadata": {},
   "outputs": [
    {
     "data": {},
     "metadata": {},
     "output_type": "display_data"
    },
    {
     "data": {},
     "metadata": {},
     "output_type": "display_data"
    },
    {
     "data": {
      "image/png": "[encoded data removed]",
      "text/plain": [
       "plot without title"
      ]
     },
     "metadata": {},
     "output_type": "display_data"
    },
    {
     "data": {
      "image/png": "[encoded data removed]",
      "text/plain": [
       "plot without title"
      ]
     },
     "metadata": {},
     "output_type": "display_data"
    }
   ],
   "source": [
    "# simulate a big data set from he SCM on which we intervened to set A = 0\n",
    "big_int_0 <- sim_int_scm(n = 1e5, set_A = 0)\n",
    "\n",
    "# plot the distribution of Y_0\n",
    "p_y0 <- ggplot(big_int_0, aes(x = Y_0)) +\n",
    "  geom_histogram(aes(y = ..count..), fill = \"blue\", binwidth = 0.1, alpha = 0.8) +\n",
    "  theme_bw() +\n",
    "  xlab(\"Y_0\") +\n",
    "  ggtitle(\"Distribution of Y_0\")\n",
    "\n",
    "# simulate a big data set from the SCM on which we intervened to set A = 1\n",
    "big_int_1 <- sim_int_scm(n = 1e5, set_A = 1)\n",
    "\n",
    "# plot the distribution of Y_1\n",
    "p_y1 <- ggplot(big_int_1, aes(x = Y_1)) +\n",
    "  geom_histogram(aes(y = ..count..), fill = \"blue\", binwidth = 0.1, alpha = 0.8) +\n",
    "  theme_bw() +\n",
    "  xlab(\"Y_1\") +\n",
    "  ggtitle(\"Distribution of Y_1\")\n",
    "\n",
    "# approximate the (counterfactual) mean of Y_0\n",
    "cf_mean_y0 <- mean(big_int_0$Y_0)\n",
    "## let's add it to the histogram\n",
    "p_y0 <- p_y0 + geom_vline(xintercept = cf_mean_y0, colour = \"red\")\n",
    "p_y0\n",
    "\n",
    "# approximate the (counterfactual) mean of Y_1\n",
    "cf_mean_y1 <- mean(big_int_1$Y_1)\n",
    "## let's add it to the histogram\n",
    "p_y1 <- p_y1 + geom_vline(xintercept = cf_mean_y1, colour = \"red\")\n",
    "p_y1"
   ]
  },
  {
   "cell_type": "markdown",
   "metadata": {},
   "source": [
    "Consider computing the average treatment effect under $P_{U,X}$, $$\n",
    "\\Psi_{cf}(P_{U,X}) = E_{P_{U,X}}\\{ f_Y(w_1, w_2, 1, u_Y) - E_{P_{U,X}}\\{f_Y(w_1, w_2, 0, u_Y) \\} \\ . \n",
    "$$\n",
    "This quantity can be approximated using our simulated values as follows:"
   ]
  },
  {
   "cell_type": "code",
   "execution_count": 6,
   "metadata": {},
   "outputs": [
    {
     "data": {
      "text/html": [
       "1.00320668516922"
      ],
      "text/latex": [
       "1.00320668516922"
      ],
      "text/markdown": [
       "1.00320668516922"
      ],
      "text/plain": [
       "[1] 1.003207"
      ]
     },
     "metadata": {},
     "output_type": "display_data"
    }
   ],
   "source": [
    "cf_mean_y1 - cf_mean_y0"
   ]
  },
  {
   "cell_type": "markdown",
   "metadata": {},
   "source": [
    "Now let's take a look at the distribution of the observed $Y$ implied by this SCM. In particular, let's consider the distribution of $Y$ conditional on $A=a$ for $a=0,1$. A conditional distribution is nothing more than the distribution of a variable in a subset of the population. Here that subset is defined by the observed treatment level."
   ]
  },
  {
   "cell_type": "code",
   "execution_count": 7,
   "metadata": {},
   "outputs": [
    {
     "data": {},
     "metadata": {},
     "output_type": "display_data"
    },
    {
     "data": {
      "text/html": [
       "0.336417832929758"
      ],
      "text/latex": [
       "0.336417832929758"
      ],
      "text/markdown": [
       "0.336417832929758"
      ],
      "text/plain": [
       "[1] 0.3364178"
      ]
     },
     "metadata": {},
     "output_type": "display_data"
    },
    {
     "data": {},
     "metadata": {},
     "output_type": "display_data"
    },
    {
     "data": {
      "image/png": "[encoded data removed]",
      "text/plain": [
       "plot without title"
      ]
     },
     "metadata": {},
     "output_type": "display_data"
    },
    {
     "data": {
      "text/html": [
       "0.656871371117355"
      ],
      "text/latex": [
       "0.656871371117355"
      ],
      "text/markdown": [
       "0.656871371117355"
      ],
      "text/plain": [
       "[1] 0.6568714"
      ]
     },
     "metadata": {},
     "output_type": "display_data"
    },
    {
     "data": {
      "image/png": "[encoded data removed]",
      "text/plain": [
       "plot without title"
      ]
     },
     "metadata": {},
     "output_type": "display_data"
    }
   ],
   "source": [
    "# simulate large data set\n",
    "big_obs <- sim_obs_scm(n = 1e5)\n",
    "\n",
    "# plot a histogram of the conditional distribution of Y given A = 0 \n",
    "py_a_is_0 <- big_obs %>%\n",
    "  dplyr::filter(A == 0) %>%\n",
    "  ggplot(., aes(x = Y)) +\n",
    "    geom_histogram(aes(y = ..count..), fill = \"blue\", binwidth = 0.1, alpha = 0.8) +\n",
    "    theme_bw() +\n",
    "    xlab(\"Y\") +\n",
    "    ggtitle(\"Conditional dist. of Y | A = 0\")\n",
    "\n",
    "# plot a histogram of the conditional distribution of Y given A = 1\n",
    "py_a_is_1 <- big_obs %>%\n",
    "  dplyr::filter(A == 1) %>%\n",
    "  ggplot(., aes(x = Y)) +\n",
    "    geom_histogram(aes(y = ..count..), fill = \"blue\", binwidth = 0.1, alpha = 0.8) +\n",
    "    theme_bw() +\n",
    "    xlab(\"Y\") +\n",
    "    ggtitle(\"Conditional dist. of Y | A = 1\")\n",
    "\n",
    "# approximate the conditional mean of Y | A = 0 \n",
    "cond_mean_Y0 <- big_obs %>%\n",
    "  dplyr::filter(A == 0) %>%\n",
    "  summarise(mean(Y)) %>%\n",
    "  as.numeric()\n",
    "## let's add it to the histogram\n",
    "py_a_is_0 <- py_a_is_0 + geom_vline(xintercept = cond_mean_Y0, colour = \"red\")\n",
    "py_a_is_0\n",
    "cond_mean_Y0\n",
    "\n",
    "# approximate the conditional mean of Y | A = 0 \n",
    "cond_mean_Y1 <- big_obs %>%\n",
    "  dplyr::filter(A == 1) %>%\n",
    "   summarise(mean(Y)) %>%\n",
    "   as.numeric()\n",
    "## let's add it to the histogram\n",
    "py_a_is_1 <- py_a_is_1 + geom_vline(xintercept = cond_mean_Y1, colour = \"red\")\n",
    "py_a_is_1\n",
    "cond_mean_Y1"
   ]
  },
  {
   "cell_type": "markdown",
   "metadata": {},
   "source": [
    "When we take the mean of the large (\"infinite\") data set we are approximating the parameter $$ \n",
    "E_P(Y \\mid A = a)\n",
    "$$\n",
    "with $$\n",
    "\\frac{1}{N_a}\\sum\\limits_{i : A_i = a} Y_i \\ ,\n",
    "$$\n",
    "where $N_a$ is the number of observations with $A = a$. If $n$ is chosen to be very large, this approximation should be very close to the true integral. \n",
    "\n",
    "Consider the parameter that I'll call the \"naive causal effect\":\n",
    "$$\n",
    "\\Psi_{naive}(P) = E_P(Y \\mid A=1) - E_P(Y \\mid A=0)\n",
    "$$\n",
    "Having evaluated the above code, we can approximate the value of the parameter at this particular $P$ as follows:"
   ]
  },
  {
   "cell_type": "code",
   "execution_count": 8,
   "metadata": {},
   "outputs": [
    {
     "data": {
      "text/html": [
       "0.320453538187597"
      ],
      "text/latex": [
       "0.320453538187597"
      ],
      "text/markdown": [
       "0.320453538187597"
      ],
      "text/plain": [
       "[1] 0.3204535"
      ]
     },
     "metadata": {},
     "output_type": "display_data"
    }
   ],
   "source": [
    "cond_mean_Y1 - cond_mean_Y0"
   ]
  },
  {
   "cell_type": "markdown",
   "metadata": {},
   "source": [
    "We see that the naive causal effect does not equal the true causal effect even at this effectively infinite sample size. That is, the parameter $\\Psi_{naive}$ does not identify $\\Psi_{cf}$. This should come as no surprise, as we can see that there is confounding in this example. That is, $W_1$ and $W_2$ affect both the probability of having $A = 1$, as well as the value of the outcome $Y$. Let's now explicity confirm that the parameter\n",
    "$$\n",
    "\\Psi(P) = E\\{E(Y \\mid A=1, W) - E(Y \\mid A=0, W)\\}\n",
    "$$\n",
    "does indeed identify the causal effect."
   ]
  },
  {
   "cell_type": "code",
   "execution_count": 9,
   "metadata": {},
   "outputs": [
    {
     "data": {
      "text/html": [
       "<table>\n",
       "<thead><tr><th scope=col>ate_w</th><th scope=col>p_w</th></tr></thead>\n",
       "<tbody>\n",
       "\t<tr><td>1.0222572</td><td>0.24952  </td></tr>\n",
       "\t<tr><td>1.0205086</td><td>0.24973  </td></tr>\n",
       "\t<tr><td>0.9859355</td><td>0.25136  </td></tr>\n",
       "\t<tr><td>1.0020733</td><td>0.24939  </td></tr>\n",
       "</tbody>\n",
       "</table>\n"
      ],
      "text/latex": [
       "\\begin{tabular}{r|ll}\n",
       " ate\\_w & p\\_w\\\\\n",
       "\\hline\n",
       "\t 1.0222572 & 0.24952  \\\\\n",
       "\t 1.0205086 & 0.24973  \\\\\n",
       "\t 0.9859355 & 0.25136  \\\\\n",
       "\t 1.0020733 & 0.24939  \\\\\n",
       "\\end{tabular}\n"
      ],
      "text/markdown": [
       "\n",
       "ate_w | p_w | \n",
       "|---|---|---|---|\n",
       "| 1.0222572 | 0.24952   | \n",
       "| 1.0205086 | 0.24973   | \n",
       "| 0.9859355 | 0.25136   | \n",
       "| 1.0020733 | 0.24939   | \n",
       "\n",
       "\n"
      ],
      "text/plain": [
       "  ate_w     p_w    \n",
       "1 1.0222572 0.24952\n",
       "2 1.0205086 0.24973\n",
       "3 0.9859355 0.25136\n",
       "4 1.0020733 0.24939"
      ]
     },
     "metadata": {},
     "output_type": "display_data"
    }
   ],
   "source": [
    "# write a loop to get mean of Y | A = 1, W = w minus\n",
    "# mean of Y | A = 0, W = w in each strata of W\n",
    "out <- NULL\n",
    "for (w1 in c(0, 1)) {\n",
    "    for (w2 in c(0, 1)) {\n",
    "        ate_this_W <- with(big_obs,\n",
    "            mean(Y[A == 1 & W_1 == w1 & W_2 == w2]) -\n",
    "                mean(Y[A == 0 & W_1 == w1 & W_2 == w2])\n",
    "            )\n",
    "        p_this_W <- with(big_obs,\n",
    "            sum(W_1 == w1 & W_2 == w2) / nrow(big_obs)\n",
    "            )\n",
    "        out <- rbind(out, c(ate_this_W, p_this_W))\n",
    "    }\n",
    "}\n",
    "out <- as_tibble(out)\n",
    "colnames(out) <- c(\"ate_w\",\"p_w\")\n",
    "\n",
    "# let's look at the matrix we just made\n",
    "out"
   ]
  },
  {
   "cell_type": "markdown",
   "metadata": {},
   "source": [
    "The matrix `out` contains a column that shows the average treatment effect in each strata, as well as the proportion of observations falling in that strata. A few observations stand out:\n",
    "\n",
    "- The average causal effect in each strata is equal to the overall average causal effect. Why? \n",
    "\n",
    "- The proportion falling in each strata is approximately equal. Why?\n",
    "\n",
    "We can use these values to get back the overall causal effect:"
   ]
  },
  {
   "cell_type": "code",
   "execution_count": 10,
   "metadata": {},
   "outputs": [
    {
     "data": {
      "text/html": [
       "1.00765702853328"
      ],
      "text/latex": [
       "1.00765702853328"
      ],
      "text/markdown": [
       "1.00765702853328"
      ],
      "text/plain": [
       "[1] 1.007657"
      ]
     },
     "metadata": {},
     "output_type": "display_data"
    }
   ],
   "source": [
    "sum(out$ate_w * out$p_w)"
   ]
  },
  {
   "cell_type": "markdown",
   "metadata": {},
   "source": [
    "## III. Optimal Treatment Rules\n",
    "\n",
    "Let's consider a slight modification of the first example\n",
    "\\begin{align*}\n",
    "U_{W,1} &\\sim \\mbox{Bernoulli}(1/2) \\\\\n",
    "U_{W,2} &\\sim \\mbox{Bernoulli}(1/2) \\\\\n",
    "U_A &\\sim \\mbox{Normal}(0,1) \\\\\n",
    "U_Y &\\sim \\mbox{Normal}(0,1) \\ ,\n",
    "\\end{align*}\n",
    "and structural equations \\begin{align*}\n",
    "f_{W,1}(U_{W,1}) &= U_{W,1} \\\\\n",
    "f_{W,2}(U_{W,2}) &= U_{W,2} \\\\\n",
    "f_A(W_1, W_2, U_A) &= I(\\mbox{expit}(W_1 - W_2 + U_A) > 0.5)\\\\\n",
    "f_Y(W_1, W_2, A, U_Y) &= 2W_1 - 3 W_1W_2 A + W_2 A - A + U_Y\\ . \n",
    "\\end{align*}"
   ]
  },
  {
   "cell_type": "code",
   "execution_count": 11,
   "metadata": {
    "collapsed": true
   },
   "outputs": [],
   "source": [
    "# this uses the same functions defined in section I above\n",
    "# for f_W1, f_W2, f_A, but we need to re-define f_Y\n",
    "f_Y <- function(W_1, W_2, A, U_Y) {\n",
    "    W_1 + W_2 - W_1 * W_2 * A + 3 * W_2 * A - A + U_Y\n",
    "}"
   ]
  },
  {
   "cell_type": "markdown",
   "metadata": {},
   "source": [
    "Here, we will study intervening in a graph according to a specified treatment rule. There are four possible covariate strata: $(W_1, W_2) \\in \\{ (0,0), (0,1), (1,0), (1,1) \\}$.\n",
    "\n",
    "Let's define a new variable\n",
    "$$\n",
    "W_S = f_S(W_1, W_2) = I(W_1 = 0, W_2 = 0) + 2 I(W_1 = 0, W_2 = 1) + 3 I(W_1 = 1, W_2 = 0) + 4 I(W_1 = 1, W_2 = 1) \\ . \n",
    "$$\n",
    "\n",
    "We are interested in the optimal treatment rule, which corresponds to picking a subset of the strata to treat. Let's write a function that can simulate from an intervened SCM according to a specified rule."
   ]
  },
  {
   "cell_type": "code",
   "execution_count": 12,
   "metadata": {},
   "outputs": [
    {
     "data": {
      "text/html": [
       "<table>\n",
       "<thead><tr><th scope=col>W_1</th><th scope=col>W_2</th><th scope=col>W_S</th><th scope=col>A</th><th scope=col>Yd</th></tr></thead>\n",
       "<tbody>\n",
       "\t<tr><td>0         </td><td>0         </td><td>1         </td><td>1         </td><td>-1.7828683</td></tr>\n",
       "\t<tr><td>0         </td><td>0         </td><td>1         </td><td>1         </td><td>-0.8844762</td></tr>\n",
       "\t<tr><td>1         </td><td>0         </td><td>3         </td><td>0         </td><td> 0.3308235</td></tr>\n",
       "\t<tr><td>0         </td><td>1         </td><td>2         </td><td>0         </td><td> 1.6771381</td></tr>\n",
       "\t<tr><td>0         </td><td>0         </td><td>1         </td><td>1         </td><td>-1.9609462</td></tr>\n",
       "\t<tr><td>1         </td><td>0         </td><td>3         </td><td>0         </td><td> 2.0303488</td></tr>\n",
       "</tbody>\n",
       "</table>\n"
      ],
      "text/latex": [
       "\\begin{tabular}{r|lllll}\n",
       " W\\_1 & W\\_2 & W\\_S & A & Yd\\\\\n",
       "\\hline\n",
       "\t 0          & 0          & 1          & 1          & -1.7828683\\\\\n",
       "\t 0          & 0          & 1          & 1          & -0.8844762\\\\\n",
       "\t 1          & 0          & 3          & 0          &  0.3308235\\\\\n",
       "\t 0          & 1          & 2          & 0          &  1.6771381\\\\\n",
       "\t 0          & 0          & 1          & 1          & -1.9609462\\\\\n",
       "\t 1          & 0          & 3          & 0          &  2.0303488\\\\\n",
       "\\end{tabular}\n"
      ],
      "text/markdown": [
       "\n",
       "W_1 | W_2 | W_S | A | Yd | \n",
       "|---|---|---|---|---|---|\n",
       "| 0          | 0          | 1          | 1          | -1.7828683 | \n",
       "| 0          | 0          | 1          | 1          | -0.8844762 | \n",
       "| 1          | 0          | 3          | 0          |  0.3308235 | \n",
       "| 0          | 1          | 2          | 0          |  1.6771381 | \n",
       "| 0          | 0          | 1          | 1          | -1.9609462 | \n",
       "| 1          | 0          | 3          | 0          |  2.0303488 | \n",
       "\n",
       "\n"
      ],
      "text/plain": [
       "  W_1 W_2 W_S A Yd        \n",
       "1 0   0   1   1 -1.7828683\n",
       "2 0   0   1   1 -0.8844762\n",
       "3 1   0   3   0  0.3308235\n",
       "4 0   1   2   0  1.6771381\n",
       "5 0   0   1   1 -1.9609462\n",
       "6 1   0   3   0  2.0303488"
      ]
     },
     "metadata": {},
     "output_type": "display_data"
    },
    {
     "data": {
      "text/html": [
       "TRUE"
      ],
      "text/latex": [
       "TRUE"
      ],
      "text/markdown": [
       "TRUE"
      ],
      "text/plain": [
       "[1] TRUE"
      ]
     },
     "metadata": {},
     "output_type": "display_data"
    },
    {
     "data": {
      "text/html": [
       "TRUE"
      ],
      "text/latex": [
       "TRUE"
      ],
      "text/markdown": [
       "TRUE"
      ],
      "text/plain": [
       "[1] TRUE"
      ]
     },
     "metadata": {},
     "output_type": "display_data"
    }
   ],
   "source": [
    "sim_rule_int_scm <- function(n, strata_tx) {\n",
    "    ################################################################\n",
    "    # define a function that takes as input\n",
    "    # n = the number of observations to simulate\n",
    "    # strataTrt = the values of W_s to treat \n",
    "    # return a tibble according to the rule-specific intervened SCM \n",
    "    ################################################################\n",
    "\n",
    "    # first we draw the errors\n",
    "    ## draw U_{W,1}\n",
    "    U_W1 <- rbinom(n, 1, 0.5)\n",
    "    ## draw U_{W,2}\n",
    "    U_W2 <- rbinom(n, 1, 0.5)\n",
    "    ## draw U_A\n",
    "    U_A <- rnorm(n, 0, 1)\n",
    "    ## draw U_Y\n",
    "    U_Y <- rnorm(n, 0, 1)\n",
    "\n",
    "    # now we can evaluate the observations sequentially\n",
    "    ## evaluate W_1\n",
    "    W_1 <- f_W1(U_W1)\n",
    "    ## evaluate W_2\n",
    "    W_2 <- f_W2(U_W2)\n",
    "    ## evaluate W_S\n",
    "    W_S <- as.numeric(I(W_1 == 0 & W_2 == 0) + 2 * I(W_1 == 0 & W_2 == 1) + \n",
    "        3 * I(W_1 == 1 & W_2 == 0) + 4 * I(W_1 == 1 & W_2 == 1))\n",
    "    # set A according to strataTrt\n",
    "    A <- as.numeric(W_S %in% strata_tx)\n",
    "\n",
    "    # evaluate Y with the set values of A\n",
    "    Y <- f_Y(W_1 = W_1, W_2 = W_2, A = A, U_Y = U_Y)\n",
    "\n",
    "    # return a tibble object\n",
    "    out <- as_tibble(list(W_1 = W_1, W_2 = W_2, W_S = W_S, A = A, Yd = Y) )\n",
    "    return(out)\n",
    "}\n",
    "\n",
    "# simulate data treating strata 1\n",
    "rule_only_1 <- sim_rule_int_scm(n = 100, strata_tx = 1)\n",
    "# let's take a look\n",
    "head(rule_only_1)\n",
    "\n",
    "# confirm that anyone with W_S == 1 has A = 1\n",
    "all(rule_only_1$A[rule_only_1$W_S == 1] == 1)\n",
    "# and that anyone without W_S == 1 has A = 0 \n",
    "all(rule_only_1$A[rule_only_1$W_S != 1] == 0)"
   ]
  },
  {
   "cell_type": "markdown",
   "metadata": {},
   "source": [
    "We can now perform a grid search to determine the optimal treatment rule under this distribution."
   ]
  },
  {
   "cell_type": "code",
   "execution_count": 13,
   "metadata": {},
   "outputs": [
    {
     "data": {
      "text/html": [
       "<ol class=list-inline>\n",
       "\t<li>0.744640697024526</li>\n",
       "\t<li>1.49553173170272</li>\n",
       "\t<li>0.74630593609533</li>\n",
       "\t<li>1.25039032058969</li>\n",
       "\t<li>1.25441661420076</li>\n",
       "\t<li>0.501774407421421</li>\n",
       "\t<li>0.995384427545952</li>\n",
       "\t<li>1.24687517908915</li>\n",
       "\t<li>1.74724049790319</li>\n",
       "\t<li>1.00260034722492</li>\n",
       "\t<li>1.00481997469567</li>\n",
       "\t<li>1.49896032989568</li>\n",
       "\t<li>0.75392361887479</li>\n",
       "\t<li>1.49986413206916</li>\n",
       "\t<li>1.24039538950792</li>\n",
       "</ol>\n"
      ],
      "text/latex": [
       "\\begin{enumerate*}\n",
       "\\item 0.744640697024526\n",
       "\\item 1.49553173170272\n",
       "\\item 0.74630593609533\n",
       "\\item 1.25039032058969\n",
       "\\item 1.25441661420076\n",
       "\\item 0.501774407421421\n",
       "\\item 0.995384427545952\n",
       "\\item 1.24687517908915\n",
       "\\item 1.74724049790319\n",
       "\\item 1.00260034722492\n",
       "\\item 1.00481997469567\n",
       "\\item 1.49896032989568\n",
       "\\item 0.75392361887479\n",
       "\\item 1.49986413206916\n",
       "\\item 1.24039538950792\n",
       "\\end{enumerate*}\n"
      ],
      "text/markdown": [
       "1. 0.744640697024526\n",
       "2. 1.49553173170272\n",
       "3. 0.74630593609533\n",
       "4. 1.25039032058969\n",
       "5. 1.25441661420076\n",
       "6. 0.501774407421421\n",
       "7. 0.995384427545952\n",
       "8. 1.24687517908915\n",
       "9. 1.74724049790319\n",
       "10. 1.00260034722492\n",
       "11. 1.00481997469567\n",
       "12. 1.49896032989568\n",
       "13. 0.75392361887479\n",
       "14. 1.49986413206916\n",
       "15. 1.24039538950792\n",
       "\n",
       "\n"
      ],
      "text/plain": [
       " [1] 0.7446407 1.4955317 0.7463059 1.2503903 1.2544166 0.5017744 0.9953844\n",
       " [8] 1.2468752 1.7472405 1.0026003 1.0048200 1.4989603 0.7539236 1.4998641\n",
       "[15] 1.2403954"
      ]
     },
     "metadata": {},
     "output_type": "display_data"
    },
    {
     "data": {
      "text/html": [
       "<ol>\n",
       "\t<li><ol class=list-inline>\n",
       "\t<li>1</li>\n",
       "\t<li>3</li>\n",
       "</ol>\n",
       "</li>\n",
       "</ol>\n"
      ],
      "text/latex": [
       "\\begin{enumerate}\n",
       "\\item \\begin{enumerate*}\n",
       "\\item 1\n",
       "\\item 3\n",
       "\\end{enumerate*}\n",
       "\n",
       "\\end{enumerate}\n"
      ],
      "text/markdown": [
       "1. 1. 1\n",
       "2. 3\n",
       "\n",
       "\n",
       "\n",
       "\n",
       "\n"
      ],
      "text/plain": [
       "[[1]]\n",
       "[1] 1 3\n"
      ]
     },
     "metadata": {},
     "output_type": "display_data"
    }
   ],
   "source": [
    "# first create a list that contains all possible \n",
    "# subsets of strata. We do this using the combn function\n",
    "strata_list <- vector(mode = \"list\", length = 0)\n",
    "for(i in seq_len(max(rule_only_1$W_S))){\n",
    "    strata_list <- c(strata_list, \n",
    "        combn(1:4, i, simplify = FALSE))\n",
    "}\n",
    "\n",
    "# you can look at the list to see what this command\n",
    "# did (omitted here for space)\n",
    "#strata_list\n",
    "\n",
    "# write a function that computes E(Y_d)\n",
    "get_EYd <- function(strata, n = 1e5) {\n",
    "    # simulate data according to rule\n",
    "    dat <- sim_rule_int_scm(n = n, strata_tx = strata)\n",
    "    # calculate mean of Yd\n",
    "    return(mean(dat$Yd))\n",
    "}\n",
    "\n",
    "# apply the function over strataList\n",
    "all_EYd <- unlist(lapply(strata_list, get_EYd))\n",
    "# look at all the values for E(Y_d)\n",
    "all_EYd\n",
    "# optimal rule is the smallest value of E(Y_d)\n",
    "opt_index <- which(all_EYd == min(all_EYd))\n",
    "# what rule is it \n",
    "strata_list[opt_index]"
   ]
  },
  {
   "cell_type": "markdown",
   "metadata": {},
   "source": [
    "Now let's confirm the identification result given in the notes. We can define a function to simulate observed data from the SCM, that is, without intervening:"
   ]
  },
  {
   "cell_type": "code",
   "execution_count": 14,
   "metadata": {
    "collapsed": true
   },
   "outputs": [],
   "source": [
    "sim_rule_obs_scm <- function(n) {\n",
    "    # first we draw the errors\n",
    "    ## draw U_{W,1}\n",
    "    U_W1 <- rbinom(n, 1, 0.5)\n",
    "    ## draw U_{W,2}\n",
    "    U_W2 <- rbinom(n, 1, 0.5)\n",
    "    ## draw U_A\n",
    "    U_A <- rnorm(n, 0, 1)\n",
    "    ## draw U_Y\n",
    "    U_Y <- rnorm(n, 0, 1)\n",
    "\n",
    "    # now we can evaluate the observations sequentially\n",
    "    ## evaluate W_1\n",
    "    W_1 <- f_W1(U_W1)\n",
    "    ## evaluate W_2\n",
    "    W_2 <- f_W2(U_W2)\n",
    "    ## evaluate W_S\n",
    "    W_S <- as.numeric(I(W_1 == 0 & W_2 == 0) + 2 * I(W_1 == 0 & W_2 == 1) + \n",
    "        3 * I(W_1 == 1 & W_2 == 0) + 4 * I(W_1 == 1 & W_2 == 1))\n",
    "    # evaluate A according to f_A \n",
    "    A <- f_A(W_1 = W_1, W_2 = W_2, U_A = U_A)\n",
    "\n",
    "    # evaluate Y with the set values of A\n",
    "    Y <- f_Y(W_1 = W_1, W_2 = W_2, A = A, U_Y = U_Y)\n",
    "\n",
    "    ## return a data.frame object\n",
    "    out <- data.frame(W_1 = W_1, W_2 = W_2, W_S = W_S, A = A, Y = Y) \n",
    "    return(out)\n",
    "}"
   ]
  },
  {
   "cell_type": "markdown",
   "metadata": {},
   "source": [
    "We now can simulate data from the observed data distribution implied by $P_{U,X}$. Recall from class that the optimal rule could be defined as $I(B_0(W) > 0)$, where $$\n",
    "B_0(W) = E(Y \\mid A=1, W) - E(Y \\mid A=0, W)\n",
    "$$ \n",
    "is the \"BLIP\" function. Let's now write a function that simulates a large observed data set and computes the BLIP function in each strata."
   ]
  },
  {
   "cell_type": "code",
   "execution_count": 15,
   "metadata": {},
   "outputs": [
    {
     "data": {
      "text/html": [
       "<dl class=dl-horizontal>\n",
       "\t<dt>1</dt>\n",
       "\t\t<dd>-0.999097777389746</dd>\n",
       "\t<dt>2</dt>\n",
       "\t\t<dd>1.99642757615479</dd>\n",
       "\t<dt>3</dt>\n",
       "\t\t<dd>-0.994804842175574</dd>\n",
       "\t<dt>4</dt>\n",
       "\t\t<dd>1.00062891391532</dd>\n",
       "</dl>\n"
      ],
      "text/latex": [
       "\\begin{description*}\n",
       "\\item[1] -0.999097777389746\n",
       "\\item[2] 1.99642757615479\n",
       "\\item[3] -0.994804842175574\n",
       "\\item[4] 1.00062891391532\n",
       "\\end{description*}\n"
      ],
      "text/markdown": [
       "1\n",
       ":   -0.9990977773897462\n",
       ":   1.996427576154793\n",
       ":   -0.9948048421755744\n",
       ":   1.00062891391532\n",
       "\n"
      ],
      "text/plain": [
       "         1          2          3          4 \n",
       "-0.9990978  1.9964276 -0.9948048  1.0006289 "
      ]
     },
     "metadata": {},
     "output_type": "display_data"
    },
    {
     "data": {
      "text/html": [
       "<ol class=list-inline>\n",
       "\t<li>1</li>\n",
       "\t<li>3</li>\n",
       "</ol>\n"
      ],
      "text/latex": [
       "\\begin{enumerate*}\n",
       "\\item 1\n",
       "\\item 3\n",
       "\\end{enumerate*}\n"
      ],
      "text/markdown": [
       "1. 1\n",
       "2. 3\n",
       "\n",
       "\n"
      ],
      "text/plain": [
       "[1] 1 3"
      ]
     },
     "metadata": {},
     "output_type": "display_data"
    }
   ],
   "source": [
    "get_blip <- function(strata, n = 1e6) {\n",
    "    # simulate data based on rule\n",
    "    dat <- sim_rule_obs_scm(n = n)\n",
    "    \n",
    "    EY_A1_WS <- dat %>%\n",
    "      dplyr::filter(W_S %in% strata & A == 1) %>%\n",
    "      summarise(mean(Y)) %>%\n",
    "      as.numeric()\n",
    "    \n",
    "    EY_A0_WS <- dat %>%\n",
    "      dplyr::filter(W_S %in% strata & A == 0) %>%\n",
    "      summarise(mean(Y)) %>%\n",
    "      as.numeric()\n",
    "\n",
    "    blip <- EY_A1_WS - EY_A0_WS \n",
    "    return(blip)\n",
    "}\n",
    "\n",
    "# now compute the blip for each strata\n",
    "all_blips <- unlist(lapply(split(1:4, 1:4), get_blip))\n",
    "all_blips\n",
    "\n",
    "# which strata have blip < 0\n",
    "as.numeric(which(all_blips < 0))"
   ]
  }
 ],
 "metadata": {
  "kernelspec": {
   "display_name": "R",
   "language": "R",
   "name": "ir"
  },
  "language_info": {
   "codemirror_mode": "r",
   "file_extension": ".r",
   "mimetype": "text/x-r-source",
   "name": "R",
   "pygments_lexer": "r",
   "version": "3.4.3"
  }
 },
 "nbformat": 4,
 "nbformat_minor": 2
}
